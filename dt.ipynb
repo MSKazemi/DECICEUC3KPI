{
 "cells": [
  {
   "cell_type": "code",
   "execution_count": 2,
   "id": "9447217c",
   "metadata": {},
   "outputs": [
    {
     "data": {
      "application/vnd.microsoft.datawrangler.viewer.v0+json": {
       "columns": [
        {
         "name": "index",
         "rawType": "int64",
         "type": "integer"
        },
        {
         "name": "phase",
         "rawType": "object",
         "type": "string"
        },
        {
         "name": "timestamp",
         "rawType": "datetime64[ns]",
         "type": "datetime"
        },
        {
         "name": "note",
         "rawType": "object",
         "type": "string"
        },
        {
         "name": "delta_time",
         "rawType": "float64",
         "type": "float"
        }
       ],
       "ref": "295cd1fa-29f4-4577-ab7d-735024b15e78",
       "rows": [
        [
         "0",
         "INFO",
         "2025-07-31 09:39:23.608000",
         "Pod initially scheduled to decice-worker",
         null
        ],
        [
         "1",
         "2a",
         "2025-07-31 09:39:33.882000",
         "Node decice-worker stopped (simulate failure)",
         "10.274"
        ],
        [
         "2",
         "3a",
         "2025-07-31 09:45:06.707000",
         "New pod test-app-7c649c7fdc-mq7l5 scheduled",
         "332.825"
        ],
        [
         "3",
         "3b",
         "2025-07-31 09:45:07.990000",
         "New pod entered Running phase",
         "1.283"
        ],
        [
         "4",
         "3c",
         "2025-07-31 09:45:08.116000",
         "New pod became Ready",
         "0.126"
        ]
       ],
       "shape": {
        "columns": 4,
        "rows": 5
       }
      },
      "text/html": [
       "<div>\n",
       "<style scoped>\n",
       "    .dataframe tbody tr th:only-of-type {\n",
       "        vertical-align: middle;\n",
       "    }\n",
       "\n",
       "    .dataframe tbody tr th {\n",
       "        vertical-align: top;\n",
       "    }\n",
       "\n",
       "    .dataframe thead th {\n",
       "        text-align: right;\n",
       "    }\n",
       "</style>\n",
       "<table border=\"1\" class=\"dataframe\">\n",
       "  <thead>\n",
       "    <tr style=\"text-align: right;\">\n",
       "      <th></th>\n",
       "      <th>phase</th>\n",
       "      <th>timestamp</th>\n",
       "      <th>note</th>\n",
       "      <th>delta_time</th>\n",
       "    </tr>\n",
       "  </thead>\n",
       "  <tbody>\n",
       "    <tr>\n",
       "      <th>0</th>\n",
       "      <td>INFO</td>\n",
       "      <td>2025-07-31 09:39:23.608</td>\n",
       "      <td>Pod initially scheduled to decice-worker</td>\n",
       "      <td>NaN</td>\n",
       "    </tr>\n",
       "    <tr>\n",
       "      <th>1</th>\n",
       "      <td>2a</td>\n",
       "      <td>2025-07-31 09:39:33.882</td>\n",
       "      <td>Node decice-worker stopped (simulate failure)</td>\n",
       "      <td>10.274</td>\n",
       "    </tr>\n",
       "    <tr>\n",
       "      <th>2</th>\n",
       "      <td>3a</td>\n",
       "      <td>2025-07-31 09:45:06.707</td>\n",
       "      <td>New pod test-app-7c649c7fdc-mq7l5 scheduled</td>\n",
       "      <td>332.825</td>\n",
       "    </tr>\n",
       "    <tr>\n",
       "      <th>3</th>\n",
       "      <td>3b</td>\n",
       "      <td>2025-07-31 09:45:07.990</td>\n",
       "      <td>New pod entered Running phase</td>\n",
       "      <td>1.283</td>\n",
       "    </tr>\n",
       "    <tr>\n",
       "      <th>4</th>\n",
       "      <td>3c</td>\n",
       "      <td>2025-07-31 09:45:08.116</td>\n",
       "      <td>New pod became Ready</td>\n",
       "      <td>0.126</td>\n",
       "    </tr>\n",
       "  </tbody>\n",
       "</table>\n",
       "</div>"
      ],
      "text/plain": [
       "  phase               timestamp  \\\n",
       "0  INFO 2025-07-31 09:39:23.608   \n",
       "1    2a 2025-07-31 09:39:33.882   \n",
       "2    3a 2025-07-31 09:45:06.707   \n",
       "3    3b 2025-07-31 09:45:07.990   \n",
       "4    3c 2025-07-31 09:45:08.116   \n",
       "\n",
       "                                            note  delta_time  \n",
       "0       Pod initially scheduled to decice-worker         NaN  \n",
       "1  Node decice-worker stopped (simulate failure)      10.274  \n",
       "2    New pod test-app-7c649c7fdc-mq7l5 scheduled     332.825  \n",
       "3                  New pod entered Running phase       1.283  \n",
       "4                           New pod became Ready       0.126  "
      ]
     },
     "execution_count": 2,
     "metadata": {},
     "output_type": "execute_result"
    }
   ],
   "source": [
    "import pandas as pd\n",
    "import matplotlib.pyplot as plt\n",
    "\n",
    "\n",
    "# Load the CSV file\n",
    "df = pd.read_csv('node_failure_experiment.csv')\n",
    "# convert the 'timestamp' column to datetime\n",
    "df['timestamp'] = pd.to_datetime(df['timestamp'], unit='ms')\n",
    "\n",
    "# create new columns and put delta time in them from the previous row\n",
    "df['delta_time'] = df['timestamp'].diff().dt.total_seconds()\n",
    "\n",
    "# Display the DataFrame\n",
    "df"
   ]
  }
 ],
 "metadata": {
  "kernelspec": {
   "display_name": "venv",
   "language": "python",
   "name": "python3"
  },
  "language_info": {
   "codemirror_mode": {
    "name": "ipython",
    "version": 3
   },
   "file_extension": ".py",
   "mimetype": "text/x-python",
   "name": "python",
   "nbconvert_exporter": "python",
   "pygments_lexer": "ipython3",
   "version": "3.12.3"
  }
 },
 "nbformat": 4,
 "nbformat_minor": 5
}
